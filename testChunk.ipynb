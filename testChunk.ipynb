{
 "cells": [
  {
   "cell_type": "code",
   "execution_count": 282,
   "source": [
    "def 初始化画布(canvas, size=(5, 5), bg=1):\r\n",
    "    \"\"\"\r\n",
    "    @description  :生成纯块画布\r\n",
    "    ---------\r\n",
    "    @param  :(any)canvas 画布 (x,y)size 画布大小，(int)bg 画布背景方块id\r\n",
    "    -------\r\n",
    "    @warning :canvas 的索引为 0 ~ x-1, 0 ~ y-1\r\n",
    "    -------\r\n",
    "    @return :(list) 处理完的画布\r\n",
    "    --------\r\n",
    "    \"\"\"\r\n",
    "\r\n",
    "    if(not isinstance(size, tuple) or size == (0, 0)):\r\n",
    "        print('初始化画布：参数错误，要求(N1,N2)，而你TM输入了' + str(size))\r\n",
    "        return\r\n",
    "\r\n",
    "    canvas = [bg] * size[0]\r\n",
    "    for i in range(len(canvas)):\r\n",
    "        canvas[i] = [bg] * size[1]\r\n",
    "\r\n",
    "    return canvas\r\n"
   ],
   "outputs": [],
   "metadata": {}
  },
  {
   "cell_type": "code",
   "execution_count": 283,
   "source": [
    "class 区块:\r\n",
    "    # 采用稀疏矩阵压缩法\r\n",
    "    def __init__(self, size, bg, data, setting = {}) -> None:\r\n",
    "        '''\r\n",
    "        * size = (int, int)  横纵坐标\r\n",
    "        * bg = (int)  方块id\r\n",
    "        * data = {(int, int) : int, ...}\r\n",
    "        * [setting] = {...}\r\n",
    "        '''\r\n",
    "        self.size = size\r\n",
    "        self.bg = bg\r\n",
    "        self.data = data\r\n",
    "        self.setting = setting\r\n",
    "\r\n",
    "    def 合成(self):\r\n",
    "        canvas = []\r\n",
    "        canvas = 初始化画布(canvas, self.size, self.bg)\r\n",
    "        for i in self.data:\r\n",
    "            canvas[i[0]][i[1]] = self.data[i]\r\n",
    "        return canvas\r\n",
    "\r\n",
    "    def 信息(self):\r\n",
    "        info = ''\r\n",
    "        info += '面积    ：%s\\n' % str(self.size)\r\n",
    "        info += '背景    ：%d\\n' % self.bg\r\n",
    "        info += '实际大小：%s\\n' % len(self.data)\r\n",
    "        if(self.setting):\r\n",
    "            # setting对象非空\r\n",
    "            info += '-设置-  ：%s\\n' % str(self.setting)\r\n",
    "        info += '细节    ：%s\\n' % str(self.data)\r\n",
    "        return info"
   ],
   "outputs": [],
   "metadata": {}
  },
  {
   "cell_type": "code",
   "execution_count": 284,
   "source": [
    "class 世界:\r\n",
    "    # 区块矩阵\r\n",
    "    def __init__(self, data={}, setting={}) -> None:\r\n",
    "        '''\r\n",
    "        * data = {(int, int) : (区块), ...}\r\n",
    "        * setting = {None}\r\n",
    "        '''\r\n",
    "        self.data = data\r\n",
    "        self.setting = setting\r\n",
    "\r\n",
    "    def 取区块(self, pos):\r\n",
    "        # pos = (int,int) 横纵坐标\r\n",
    "        return self.data[pos[0], pos[1]]\r\n",
    "\r\n",
    "    def 设区块(self, *args):\r\n",
    "        ''' \r\n",
    "        * 1个参数：{(int, int) : (区块), ...} 类似世界型\r\n",
    "        * 2,4,6,...个参数：(int, int), (区块), ...\r\n",
    "        '''\r\n",
    "        \r\n",
    "        try:\r\n",
    "            if(len(args) == 1):\r\n",
    "                arg = args[0]\r\n",
    "                for pos, chunk in arg.items():\r\n",
    "                    self.data[pos] = chunk\r\n",
    "            else:\r\n",
    "                for pos, chunk in zip(args[::2],args[1::2]):\r\n",
    "                    self.data[pos] = chunk\r\n",
    "        except Exception as e:\r\n",
    "            # 抛出错误(e, '区块数据格式 发生错误')\r\n",
    "            print('error')\r\n",
    "\r\n",
    "    def 信息(self):\r\n",
    "        info = ''\r\n",
    "        info += '区块数  ：%d\\n' % len(self.data)\r\n",
    "        if(self.setting):\r\n",
    "            # setting对象非空\r\n",
    "            info += '-设置-  ：%s\\n' % str(self.setting)\r\n",
    "        info += '细节    ：%s\\n' % str(self.data)\r\n",
    "        return info\r\n"
   ],
   "outputs": [],
   "metadata": {}
  },
  {
   "cell_type": "code",
   "execution_count": 285,
   "source": [
    "a = 区块((5, 5), 0, {(1, 2): 5, (2, 3): 3, (0, 0): 9, (4, 4): 2}, {5464: 54})\r\n",
    "b = 区块((5, 5), 1, {(1, 3): 2, (4, 3): 3, (1, 1): 9, (4, 4): 2})\r\n",
    "# print(a.信息())\r\n",
    "# print(b.信息())\r\n"
   ],
   "outputs": [],
   "metadata": {}
  },
  {
   "cell_type": "code",
   "execution_count": 288,
   "source": [
    "wo = 世界()\r\n",
    "wo.设区块((0, 0), a, (0, 1), b)\r\n",
    "# print(wo.信息())\r\n",
    "\r\n",
    "wo.取区块((0,0)).合成()\r\n"
   ],
   "outputs": [
    {
     "output_type": "execute_result",
     "data": {
      "text/plain": [
       "[[9, 0, 0, 0, 0],\n",
       " [0, 0, 5, 0, 0],\n",
       " [0, 0, 0, 3, 0],\n",
       " [0, 0, 0, 0, 0],\n",
       " [0, 0, 0, 0, 2]]"
      ]
     },
     "metadata": {},
     "execution_count": 288
    }
   ],
   "metadata": {}
  }
 ],
 "metadata": {
  "orig_nbformat": 4,
  "language_info": {
   "name": "python"
  }
 },
 "nbformat": 4,
 "nbformat_minor": 2
}